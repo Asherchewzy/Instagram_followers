{
 "cells": [
  {
   "cell_type": "code",
   "execution_count": 2,
   "metadata": {},
   "outputs": [],
   "source": [
    "followers_file_path = 'followers_1.json'\n",
    "followings_file_path = 'following.json'"
   ]
  },
  {
   "cell_type": "code",
   "execution_count": 3,
   "metadata": {},
   "outputs": [
    {
     "name": "stdout",
     "output_type": "stream",
     "text": [
      "number of followers: 26\n",
      "number of followings: 82\n"
     ]
    }
   ],
   "source": [
    "import json\n",
    "import random\n",
    "\n",
    "with open(followers_file_path, 'r') as f:\n",
    "    followers_1 = json.load(f)\n",
    "\n",
    "with open(followings_file_path, 'r') as f:\n",
    "    following = json.load(f)\n",
    "\n",
    "followers = [entry['value'] for item in followers_1 for entry in item['string_list_data']]\n",
    "followings = [entry['value'] for item in following['relationships_following'] for entry in item['string_list_data']]\n",
    "\n",
    "print(f'number of followers: {len(followers)}')\n",
    "print(f'number of followings: {len(followings)}')\n"
   ]
  },
  {
   "cell_type": "code",
   "execution_count": 5,
   "metadata": {},
   "outputs": [],
   "source": [
    "acc_not_following_you = (list(set(followings) - set(followers)))"
   ]
  },
  {
   "cell_type": "code",
   "execution_count": 7,
   "metadata": {},
   "outputs": [
    {
     "data": {
      "text/plain": [
       "['thatgoodnewsgirl', 'mipigcafe', 'organicviralmedia']"
      ]
     },
     "execution_count": 7,
     "metadata": {},
     "output_type": "execute_result"
    }
   ],
   "source": [
    "# randomly showing 3 \n",
    "random.sample(acc_not_following_you, 3)"
   ]
  }
 ],
 "metadata": {
  "kernelspec": {
   "display_name": "base",
   "language": "python",
   "name": "python3"
  },
  "language_info": {
   "codemirror_mode": {
    "name": "ipython",
    "version": 3
   },
   "file_extension": ".py",
   "mimetype": "text/x-python",
   "name": "python",
   "nbconvert_exporter": "python",
   "pygments_lexer": "ipython3",
   "version": "3.12.3"
  }
 },
 "nbformat": 4,
 "nbformat_minor": 2
}
